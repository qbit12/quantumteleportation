{
 "cells": [
  {
   "cell_type": "code",
   "execution_count": 2,
   "metadata": {},
   "outputs": [],
   "source": [
    "#Quantum Teleportation"
   ]
  },
  {
   "cell_type": "markdown",
   "metadata": {},
   "source": [
    "# Steps for Alice sending a message to Bob\n",
    "\n",
    "1. Initializing the state to be teleported. We will do this on Alice's qubit q0.\n",
    "\n",
    "2. Creating entanglemed pair(using qubit 1 and qubit).Alice owns q1, and Bob owns q2.\n",
    "\n",
    "3. Applying a Bell measurement on Alice's qubits q0 and q1 by applying a cx then hadamard gate\n",
    "\n",
    "4. Applying classically controlled channel on Bob's qubit q2 qubit and tells her the outcome of her two qubit measurement.\n",
    "\n",
    "5. Bob applies gates based on Alice's communication\n",
    "\n",
    "00 -> do nothing\n\n",
    "01 -> Apply X \n\n",
    "10 -> Apply Z \n\n",
    "11 -> Apply ZX\n\n",
    "6.q3 teleported from Alice to Bob"
   ]
  },
  {
   "cell_type": "code",
   "execution_count": 3,
   "metadata": {},
   "outputs": [],
   "source": [
    "import qiskit as qk\n",
    "from qiskit import ClassicalRegister, QuantumRegister, QuantumCircuit\n",
    "from qiskit import execute, Aer, IBMQ\n",
    "from qiskit.tools.visualization import plot_histogram"
   ]
  },
  {
   "cell_type": "code",
   "execution_count": 6,
   "metadata": {},
   "outputs": [],
   "source": [
    "def initialize_qubit(circuit, qubit_index, state1, state2):\n",
    "    \n",
    "    circuit.initialize([state1,state2], qubit_index)\n",
    "  \n",
    "    \n",
    "    return circuit"
   ]
  },
  {
   "cell_type": "code",
   "execution_count": 15,
   "metadata": {},
   "outputs": [],
   "source": [
    "def entangle_qubits(circuit, qubit_Alice, qubit_Bob):\n",
    "    \n",
    "    \n",
    "    circuit.h(qubit_Alice)\n",
    "    circuit.cx(qubit_Alice, qubit_Bob)\n",
    " \n",
    "    \n",
    "    return circuit"
   ]
  },
  {
   "cell_type": "code",
   "execution_count": 24,
   "metadata": {},
   "outputs": [],
   "source": [
    "def bell_meas_Alice_qubits(circuit, qubit1_Alice, qubit2_Alice, clbit1_Alice, clbit2_Alice):\n",
    "    \n",
    "  \n",
    "    circuit.cx(qubit1_Alice, qubit2_Alice)\n",
    "    circuit.h(qubit1_Alice)\n",
    "    circuit.barrier()\n",
    "    circuit.measure(qubit1_Alice, clbit1_Alice)\n",
    "    circuit.measure(qubit2_Alice, clbit2_Alice)\n",
    "\n",
    "\n",
    "    return circuit"
   ]
  },
  {
   "cell_type": "code",
   "execution_count": 19,
   "metadata": {},
   "outputs": [],
   "source": [
    "def Bob_qubit_classical(circuit, qubit_Bob, clbit1_Alice, clbit2_Alice):\n",
    "    \n",
    "   \n",
    "    \n",
    "    circuit.x(qubit_Bob).c_if(clbit2_Alice, 1)         #an  𝑋  gate is applied on Bob's qubit if the measurement of Alice's second qubit, clbit2_Alice, is 1.\n",
    "    circuit.z(qubit_Bob).c_if(clbit1_Alice, 1)         #𝑍  gate is applied on Bob's qubit if the measurement of Alice's first qubit, clbit1_Alice, is 1.\n",
    "    \n",
    "    \n",
    "    return circuit"
   ]
  },
  {
   "cell_type": "code",
   "execution_count": 25,
   "metadata": {},
   "outputs": [
    {
     "name": "stdout",
     "output_type": "stream",
     "text": [
      "       ┌─────────────────┐ ░            ░      ┌───┐ ░ ┌─┐    ░               \n",
      "q20_0: ┤ initialize(0,1) ├─░────────────░───■──┤ H ├─░─┤M├────░───────────────\n",
      "       └─────────────────┘ ░ ┌───┐      ░ ┌─┴─┐└───┘ ░ └╥┘┌─┐ ░               \n",
      "q20_1: ────────────────────░─┤ H ├──■───░─┤ X ├──────░──╫─┤M├─░───────────────\n",
      "                           ░ └───┘┌─┴─┐ ░ └───┘      ░  ║ └╥┘ ░  ┌───┐  ┌───┐ \n",
      "q21_0: ────────────────────░──────┤ X ├─░────────────░──╫──╫──░──┤ X ├──┤ Z ├─\n",
      "                           ░      └───┘ ░            ░  ║  ║  ░  └─┬─┘  └─┬─┘ \n",
      "                                                        ║  ║       │   ┌──┴──┐\n",
      "c20_0: ═════════════════════════════════════════════════╩══╬═══════╪═══╡ = 1 ╞\n",
      "                                                           ║    ┌──┴──┐└─────┘\n",
      "c21_0: ════════════════════════════════════════════════════╩════╡ = 1 ╞═══════\n",
      "                                                                └─────┘       \n"
     ]
    }
   ],
   "source": [
    "\n",
    "from qiskit import QuantumRegister, ClassicalRegister\n",
    "\n",
    "\n",
    "all_qubits_Alice = QuantumRegister(2)\n",
    "all_qubits_Bob = QuantumRegister(1)\n",
    "cr1_Alice = ClassicalRegister(1)\n",
    "cr2_Alice = ClassicalRegister(1)\n",
    "\n",
    "\n",
    "mycircuit = QuantumCircuit(all_qubits_Alice, all_qubits_Bob, cr1_Alice, cr2_Alice)\n",
    "initialize_qubit(mycircuit, 0, 0, 1)\n",
    "mycircuit.barrier()\n",
    "\n",
    "entangle_qubits(mycircuit, 1, 2)\n",
    "mycircuit.barrier()\n",
    "\n",
    "bell_meas_Alice_qubits(mycircuit, all_qubits_Alice[0], all_qubits_Alice[1], cr1_Alice, cr2_Alice)\n",
    "mycircuit.barrier()\n",
    "\n",
    "Bob_qubit_classical(mycircuit, all_qubits_Bob[0], cr1_Alice, cr2_Alice)\n",
    "\n",
    "\n",
    "print(mycircuit.draw(output='text'))\n",
    "\n"
   ]
  },
  {
   "cell_type": "code",
   "execution_count": 28,
   "metadata": {},
   "outputs": [
    {
     "name": "stdout",
     "output_type": "stream",
     "text": [
      "{'0 1': 243, '0 0': 258, '1 0': 255, '1 1': 268}\n"
     ]
    },
    {
     "data": {
      "image/png": "[encoded data removed]",
      "text/plain": [
       "<Figure size 504x360 with 1 Axes>"
      ]
     },
     "execution_count": 28,
     "metadata": {},
     "output_type": "execute_result"
    }
   ],
   "source": [
    "backend = Aer.get_backend('qasm_simulator')\n",
    "job_sim = execute(mycircuit, backend, shots=1024)\n",
    "sim_result = job_sim.result()\n",
    "\n",
    "result = sim_result.get_counts(mycircuit)\n",
    "print(result)\n",
    "plot_histogram(result)"
   ]
  },
  {
   "cell_type": "code",
   "execution_count": null,
   "metadata": {},
   "outputs": [],
   "source": []
  }
 ],
 "metadata": {
  "kernelspec": {
   "display_name": "Python 3",
   "language": "python",
   "name": "python3"
  },
  "language_info": {
   "codemirror_mode": {
    "name": "ipython",
    "version": 3
   },
   "file_extension": ".py",
   "mimetype": "text/x-python",
   "name": "python",
   "nbconvert_exporter": "python",
   "pygments_lexer": "ipython3",
   "version": "3.7.6"
  }
 },
 "nbformat": 4,
 "nbformat_minor": 4
}
